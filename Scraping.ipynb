{
 "cells": [
  {
   "cell_type": "code",
   "execution_count": 47,
   "metadata": {
    "collapsed": true
   },
   "outputs": [],
   "source": [
    "import pandas as pd\n",
    "import numpy as np\n",
    "import urllib.request, json \n",
    "import re\n",
    "import pprint"
   ]
  },
  {
   "cell_type": "code",
   "execution_count": 50,
   "metadata": {
    "collapsed": true
   },
   "outputs": [],
   "source": [
    "pp = pprint.PrettyPrinter(depth=6)"
   ]
  },
  {
   "cell_type": "code",
   "execution_count": 11,
   "metadata": {
    "collapsed": false
   },
   "outputs": [
    {
     "name": "stdout",
     "output_type": "stream",
     "text": [
      "['ACC1002' 'ACC1002X' 'ACC1006' ..., 'ZB3288' 'ZB3289' 'ZB4199']\n"
     ]
    }
   ],
   "source": [
    "modules = []\n",
    "with urllib.request.urlopen(\"http://api.nusmods.com/2017-2018/2/moduleCodes.json\") as url:\n",
    "    modules = json.loads(url.read().decode())\n",
    "    \n",
    "modules = np.array(modules)\n",
    "print(modules)"
   ]
  },
  {
   "cell_type": "code",
   "execution_count": 45,
   "metadata": {
    "collapsed": false
   },
   "outputs": [
    {
     "data": {
      "text/plain": [
       "array(['ACC1002', 'ACC1006', 'ACC1701', 'ACC2002', 'ACC3601', 'ACC3603',\n",
       "       'ACC3604', 'ACC3605', 'ACC3606', 'ACC3613', 'ACC3614', 'ACC3616',\n",
       "       'ACC3619', 'ACC4611', 'ACC4614', 'ACC5001', 'BSP1004', 'BSP1005',\n",
       "       'BSP2001', 'BSP2005', 'BSP3001A', 'BSP3001B', 'BSP3516', 'DSC1007',\n",
       "       'DSC2006', 'DSC2008', 'DSC3201', 'DSC3202', 'DSC3203', 'DSC3214',\n",
       "       'DSC3215', 'DSC3216', 'DSC3224', 'DSC4211C', 'DSC4211G', 'DSC4213',\n",
       "       'DSC4215', 'DSC4217', 'DSC5102', 'DSC5121', 'DSC5211A', 'DSC5211B',\n",
       "       'DSC5211C', 'FIN2004', 'FIN3101A', 'FIN3101B', 'FIN3102', 'FIN3103',\n",
       "       'FIN3103B', 'FIN3113', 'FIN3117', 'FIN3118', 'FIN3120B', 'FIN3120C',\n",
       "       'FIN3120D', 'FIN3130', 'FIN3131', 'FIN4112G', 'FIN4112K',\n",
       "       'FIN4113A', 'FIN4113B', 'FIN4117', 'FIN4122', 'FIN4123', 'FIN6003',\n",
       "       'MKT1003', 'MKT1705', 'MKT2401A', 'MKT2401B', 'MKT2413', 'MKT3402A',\n",
       "       'MKT3402B', 'MKT3402C', 'MKT3412', 'MKT3415', 'MKT3417', 'MKT3418',\n",
       "       'MKT3420', 'MKT3421', 'MKT4413', 'MKT4417', 'MNO1001', 'MNO1706',\n",
       "       'MNO2007', 'MNO2009', 'MNO2302', 'MNO3301', 'MNO3303', 'MNO3313J',\n",
       "       'MNO3331', 'MNO3332', 'MNO4313D', 'MNO4313E', 'TR2201', 'TR2202',\n",
       "       'TR3001', 'TR3002N', 'TR3202', 'TR3203E', 'TR3203N', 'TR3203P',\n",
       "       'TR3203T', 'TR4049N', 'TR4049S', 'TR4049T'],\n",
       "      dtype='<U8')"
      ]
     },
     "execution_count": 45,
     "metadata": {},
     "output_type": "execute_result"
    }
   ],
   "source": [
    "# only take in the mods with these prefixes\n",
    "# prefix = [\"FIN\", \"DSC\", \"MNO\", \"MKT\", \"BSP\", \"ACC\", \"HR\", \"TR\"]\n",
    "modules_filtered = np.array(list(filter(lambda module: bool(re.compile(\"^(FIN|DSC|MNO|MKT|BSP|ACC|HR|TR)\",).match(module)), modules)))\n",
    "\n",
    "# remove \"X\" from suffix\n",
    "modules_filtered = np.array(list(filter(lambda module: module[-1] != 'X', modules_filtered)))\n",
    "modules_filtered"
   ]
  },
  {
   "cell_type": "code",
   "execution_count": 56,
   "metadata": {
    "collapsed": false
   },
   "outputs": [
    {
     "name": "stdout",
     "output_type": "stream",
     "text": [
      "{'Department': 'Analytics & Operations',\n",
      " 'ExamDate': '2017-12-08T14:30+0800',\n",
      " 'LecturePeriods': ['Friday Afternoon'],\n",
      " 'ModuleCode': 'DSC3214',\n",
      " 'ModuleCredit': '4',\n",
      " 'ModuleDescription': 'This module introduces students to the theory, '\n",
      "                      'algorithms, and applications of optimisation. '\n",
      "                      'Optimisation methodologies include linear programming, '\n",
      "                      'integer programming, network optimisation, dynamic '\n",
      "                      'programming, and nonlinear programming. Problem '\n",
      "                      'formulation and interpretation of solutions will be '\n",
      "                      'emphasized. Throughout the course, references will be '\n",
      "                      'made wherever appropriate, to business applications, '\n",
      "                      'such as portfolio selection, options pricing, and '\n",
      "                      'vehicle routing. Students who are interested in '\n",
      "                      'computer and quantitative approaches in business will '\n",
      "                      'learn many useful techniques in large business system '\n",
      "                      'management from this course.',\n",
      " 'ModuleTitle': 'Introduction To Optimisation',\n",
      " 'Preclusion': 'IE2110',\n",
      " 'Prerequisite': 'DSC1007 or [(MA1101R or MA1311) and (MA1521 or MA1102R)]',\n",
      " 'Timetable': [{'ClassNo': 'N1',\n",
      "                'DayText': 'Friday',\n",
      "                'EndTime': '1700',\n",
      "                'LessonType': 'Sectional Teaching',\n",
      "                'StartTime': '1400',\n",
      "                'Venue': 'BIZ2-0509',\n",
      "                'WeekText': 'Every Week'}],\n",
      " 'Types': ['UEM'],\n",
      " 'Workload': '3-0-0-3-4'}\n"
     ]
    }
   ],
   "source": [
    "# define a function that gives us the json from the thing\n",
    "\n",
    "def get_json(module_code):\n",
    "    with urllib.request.urlopen(\"http://api.nusmods.com/2017-2018/1/modules/\" + module_code + \".json\") as url:\n",
    "        data = json.loads(url.read().decode())\n",
    "        \n",
    "        # remove CorsBiddingStats\n",
    "        del data['CorsBiddingStats']\n",
    "        return data\n",
    "\n",
    "# pp.pprint(get_json(\"DSC3214\"))"
   ]
  },
  {
   "cell_type": "code",
   "execution_count": 43,
   "metadata": {
    "collapsed": false
   },
   "outputs": [
    {
     "data": {
      "text/plain": [
       "'i'"
      ]
     },
     "execution_count": 43,
     "metadata": {},
     "output_type": "execute_result"
    }
   ],
   "source": [
    "x = 'hi'\n",
    "x[-1]"
   ]
  },
  {
   "cell_type": "code",
   "execution_count": null,
   "metadata": {
    "collapsed": true
   },
   "outputs": [],
   "source": []
  }
 ],
 "metadata": {
  "anaconda-cloud": {},
  "kernelspec": {
   "display_name": "Python [conda root]",
   "language": "python",
   "name": "conda-root-py"
  },
  "language_info": {
   "codemirror_mode": {
    "name": "ipython",
    "version": 3
   },
   "file_extension": ".py",
   "mimetype": "text/x-python",
   "name": "python",
   "nbconvert_exporter": "python",
   "pygments_lexer": "ipython3",
   "version": "3.5.2"
  }
 },
 "nbformat": 4,
 "nbformat_minor": 1
}
