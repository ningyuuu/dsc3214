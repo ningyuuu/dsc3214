{
 "cells": [
  {
   "cell_type": "code",
   "execution_count": 12,
   "metadata": {
    "collapsed": true
   },
   "outputs": [],
   "source": [
    "import pandas as pd\n",
    "import numpy as np\n",
    "import urllib.request, json \n",
    "import re"
   ]
  },
  {
   "cell_type": "code",
   "execution_count": 11,
   "metadata": {
    "collapsed": false
   },
   "outputs": [
    {
     "name": "stdout",
     "output_type": "stream",
     "text": [
      "['ACC1002' 'ACC1002X' 'ACC1006' ..., 'ZB3288' 'ZB3289' 'ZB4199']\n"
     ]
    }
   ],
   "source": [
    "modules = []\n",
    "with urllib.request.urlopen(\"http://api.nusmods.com/2017-2018/2/moduleCodes.json\") as url:\n",
    "    modules = json.loads(url.read().decode())\n",
    "    \n",
    "modules = np.array(modules)\n",
    "print(modules)"
   ]
  },
  {
   "cell_type": "code",
   "execution_count": 23,
   "metadata": {
    "collapsed": false
   },
   "outputs": [
    {
     "ename": "IndexError",
     "evalue": "only integers, slices (`:`), ellipsis (`...`), numpy.newaxis (`None`) and integer or boolean arrays are valid indices",
     "output_type": "error",
     "traceback": [
      "\u001b[1;31m---------------------------------------------------------------------------\u001b[0m",
      "\u001b[1;31mIndexError\u001b[0m                                Traceback (most recent call last)",
      "\u001b[1;32m<ipython-input-23-cb400c47a626>\u001b[0m in \u001b[0;36m<module>\u001b[1;34m()\u001b[0m\n\u001b[0;32m      3\u001b[0m \u001b[1;31m#re.compile(\"^(FIN|DSC|MNO|MKT|BSP|ACC|HR|TR)\").match(modules[0])\u001b[0m\u001b[1;33m\u001b[0m\u001b[1;33m\u001b[0m\u001b[0m\n\u001b[0;32m      4\u001b[0m \u001b[1;33m\u001b[0m\u001b[0m\n\u001b[1;32m----> 5\u001b[1;33m \u001b[0mmodules_filtered\u001b[0m \u001b[1;33m=\u001b[0m \u001b[0mmodules\u001b[0m\u001b[1;33m[\u001b[0m\u001b[1;32mlambda\u001b[0m \u001b[0mmodules\u001b[0m\u001b[1;33m:\u001b[0m \u001b[0mre\u001b[0m\u001b[1;33m.\u001b[0m\u001b[0mcompile\u001b[0m\u001b[1;33m(\u001b[0m\u001b[1;34m\"^(FIN|DSC|MNO|MKT|BSP|ACC|HR|TR)\"\u001b[0m\u001b[1;33m,\u001b[0m\u001b[1;33m)\u001b[0m\u001b[1;33m.\u001b[0m\u001b[0mmatch\u001b[0m\u001b[1;33m(\u001b[0m\u001b[0mmodules\u001b[0m\u001b[1;33m[\u001b[0m\u001b[1;36m0\u001b[0m\u001b[1;33m]\u001b[0m\u001b[1;33m)\u001b[0m\u001b[1;33m]\u001b[0m\u001b[1;33m\u001b[0m\u001b[0m\n\u001b[0m\u001b[0;32m      6\u001b[0m \u001b[0mprint\u001b[0m\u001b[1;33m(\u001b[0m\u001b[0mmodules_filtered\u001b[0m\u001b[1;33m)\u001b[0m\u001b[1;33m\u001b[0m\u001b[0m\n\u001b[0;32m      7\u001b[0m \u001b[1;33m\u001b[0m\u001b[0m\n",
      "\u001b[1;31mIndexError\u001b[0m: only integers, slices (`:`), ellipsis (`...`), numpy.newaxis (`None`) and integer or boolean arrays are valid indices"
     ]
    }
   ],
   "source": [
    "# only take in the mods with these prefixes\n",
    "prefix = [\"FIN\", \"DSC\", \"MNO\", \"MKT\", \"BSP\", \"ACC\", \"HR\", \"TR\"]\n",
    "#re.compile(\"^(FIN|DSC|MNO|MKT|BSP|ACC|HR|TR)\").match(modules[0])\n",
    "\n",
    "modules_filtered = np.array(filter(lambda modu re.compile(\"^(FIN|DSC|MNO|MKT|BSP|ACC|HR|TR)\",).match(modules[0])]\n",
    "print(modules_filtered)\n",
    "\n",
    "# remove \"X\" from suffix"
   ]
  },
  {
   "cell_type": "code",
   "execution_count": 3,
   "metadata": {
    "collapsed": false
   },
   "outputs": [
    {
     "name": "stdout",
     "output_type": "stream",
     "text": [
      "{'CorsBiddingStats': [{'LowestBid': '1', 'Round': '1A', 'LowestSuccessfulBid': '1', 'StudentAcctType': 'Returning Students [P]', 'Faculty': 'School Of Business', 'Semester': '2', 'Bidders': '36', 'Group': 'Sectional Teaching E1', 'AcadYear': '2010/2011', 'HighestBid': '2555', 'Quota': '45'}, {'LowestBid': '1', 'Round': '1B', 'LowestSuccessfulBid': '1', 'StudentAcctType': 'Returning Students [P]', 'Faculty': 'School Of Business', 'Semester': '2', 'Bidders': '4', 'Group': 'Sectional Teaching E1', 'AcadYear': '2010/2011', 'HighestBid': '1000', 'Quota': '9'}, {'LowestBid': '0', 'Round': '2A', 'LowestSuccessfulBid': '0', 'StudentAcctType': 'Returning Students and New Students [P]', 'Faculty': 'School Of Business', 'Semester': '2', 'Bidders': '0', 'Group': 'Sectional Teaching E1', 'AcadYear': '2010/2011', 'HighestBid': '0', 'Quota': '6'}, {'LowestBid': '0', 'Round': '2B', 'LowestSuccessfulBid': '0', 'StudentAcctType': 'Returning Students and New Students [P]', 'Faculty': 'School Of Business', 'Semester': '2', 'Bidders': '0', 'Group': 'Sectional Teaching E1', 'AcadYear': '2010/2011', 'HighestBid': '0', 'Quota': '9'}, {'LowestBid': '937', 'Round': '2C', 'LowestSuccessfulBid': '1', 'StudentAcctType': 'NUS Students [P, G]', 'Faculty': 'School Of Business', 'Semester': '2', 'Bidders': '1', 'Group': 'Sectional Teaching E1', 'AcadYear': '2010/2011', 'HighestBid': '937', 'Quota': '11'}, {'LowestBid': '1', 'Round': '3A', 'LowestSuccessfulBid': '1', 'StudentAcctType': 'NUS Students [P, G]', 'Faculty': 'School Of Business', 'Semester': '2', 'Bidders': '3', 'Group': 'Sectional Teaching E1', 'AcadYear': '2010/2011', 'HighestBid': '1199', 'Quota': '10'}, {'LowestBid': '1', 'Round': '3B', 'LowestSuccessfulBid': '1', 'StudentAcctType': 'NUS Students [P, G]', 'Faculty': 'School Of Business', 'Semester': '2', 'Bidders': '1', 'Group': 'Sectional Teaching E1', 'AcadYear': '2010/2011', 'HighestBid': '1', 'Quota': '7'}, {'LowestBid': '1', 'Round': '1A', 'LowestSuccessfulBid': '1', 'StudentAcctType': 'Returning Students [P]', 'Faculty': 'School Of Business', 'Semester': '1', 'Bidders': '15', 'Group': 'Sectional Teaching E1', 'AcadYear': '2011/2012', 'HighestBid': '513', 'Quota': '40'}, {'LowestBid': '1', 'Round': '1B', 'LowestSuccessfulBid': '1', 'StudentAcctType': 'Returning Students [P]', 'Faculty': 'School Of Business', 'Semester': '1', 'Bidders': '5', 'Group': 'Sectional Teaching E1', 'AcadYear': '2011/2012', 'HighestBid': '1000', 'Quota': '25'}, {'LowestBid': '1', 'Round': '1C', 'LowestSuccessfulBid': '1', 'StudentAcctType': 'Returning Students [P]', 'Faculty': 'School Of Business', 'Semester': '1', 'Bidders': '4', 'Group': 'Sectional Teaching E1', 'AcadYear': '2011/2012', 'HighestBid': '700', 'Quota': '20'}, {'LowestBid': '0', 'Round': '1C', 'LowestSuccessfulBid': '0', 'StudentAcctType': 'Reserved for [G] in later round', 'Faculty': 'School Of Business', 'Semester': '1', 'Bidders': '0', 'Group': 'Sectional Teaching E1', 'AcadYear': '2011/2012', 'HighestBid': '0', 'Quota': '5'}, {'LowestBid': '11', 'Round': '2A', 'LowestSuccessfulBid': '1', 'StudentAcctType': 'Returning Students [P] and NUS Students [G]', 'Faculty': 'School Of Business', 'Semester': '1', 'Bidders': '2', 'Group': 'Sectional Teaching E1', 'AcadYear': '2011/2012', 'HighestBid': '1000', 'Quota': '21'}, {'LowestBid': '0', 'Round': '2B', 'LowestSuccessfulBid': '0', 'StudentAcctType': 'Returning Students [P] and NUS Students [G]', 'Faculty': 'School Of Business', 'Semester': '1', 'Bidders': '0', 'Group': 'Sectional Teaching E1', 'AcadYear': '2011/2012', 'HighestBid': '0', 'Quota': '22'}, {'LowestBid': '1', 'Round': '3A', 'LowestSuccessfulBid': '1', 'StudentAcctType': 'NUS Students [P, G]', 'Faculty': 'School Of Business', 'Semester': '1', 'Bidders': '2', 'Group': 'Sectional Teaching E1', 'AcadYear': '2011/2012', 'HighestBid': '1', 'Quota': '23'}, {'LowestBid': '0', 'Round': '3B', 'LowestSuccessfulBid': '0', 'StudentAcctType': 'NUS Students [P, G]', 'Faculty': 'School Of Business', 'Semester': '1', 'Bidders': '0', 'Group': 'Sectional Teaching E1', 'AcadYear': '2011/2012', 'HighestBid': '0', 'Quota': '21'}, {'LowestBid': '1', 'Round': '1A', 'LowestSuccessfulBid': '1', 'StudentAcctType': 'Returning Students [P]', 'Faculty': 'School Of Business', 'Semester': '2', 'Bidders': '23', 'Group': 'Sectional Teaching N1', 'AcadYear': '2012/2013', 'HighestBid': '2010', 'Quota': '40'}, {'LowestBid': '1', 'Round': '1B', 'LowestSuccessfulBid': '1', 'StudentAcctType': 'Returning Students [P]', 'Faculty': 'School Of Business', 'Semester': '2', 'Bidders': '1', 'Group': 'Sectional Teaching N1', 'AcadYear': '2012/2013', 'HighestBid': '1', 'Quota': '17'}, {'LowestBid': '1', 'Round': '2A', 'LowestSuccessfulBid': '1', 'StudentAcctType': 'Returning Students and New Students [P]', 'Faculty': 'School Of Business', 'Semester': '2', 'Bidders': '1', 'Group': 'Sectional Teaching N1', 'AcadYear': '2012/2013', 'HighestBid': '1', 'Quota': '16'}, {'LowestBid': '0', 'Round': '2A', 'LowestSuccessfulBid': '0', 'StudentAcctType': 'Reserved for [G] in later round', 'Faculty': 'School Of Business', 'Semester': '2', 'Bidders': '0', 'Group': 'Sectional Teaching N1', 'AcadYear': '2012/2013', 'HighestBid': '0', 'Quota': '5'}, {'LowestBid': '1', 'Round': '2B', 'LowestSuccessfulBid': '1', 'StudentAcctType': 'Returning Students and New Students [P]', 'Faculty': 'School Of Business', 'Semester': '2', 'Bidders': '2', 'Group': 'Sectional Teaching N1', 'AcadYear': '2012/2013', 'HighestBid': '100', 'Quota': '17'}, {'LowestBid': '0', 'Round': '2B', 'LowestSuccessfulBid': '0', 'StudentAcctType': 'NUS Students [G]', 'Faculty': 'School Of Business', 'Semester': '2', 'Bidders': '0', 'Group': 'Sectional Teaching N1', 'AcadYear': '2012/2013', 'HighestBid': '0', 'Quota': '5'}, {'LowestBid': '1', 'Round': '3A', 'LowestSuccessfulBid': '1', 'StudentAcctType': 'NUS Students [P, G]', 'Faculty': 'School Of Business', 'Semester': '2', 'Bidders': '3', 'Group': 'Sectional Teaching N1', 'AcadYear': '2012/2013', 'HighestBid': '50', 'Quota': '21'}, {'LowestBid': '1', 'Round': '3B', 'LowestSuccessfulBid': '1', 'StudentAcctType': 'NUS Students [P, G]', 'Faculty': 'School Of Business', 'Semester': '2', 'Bidders': '3', 'Group': 'Sectional Teaching N1', 'AcadYear': '2012/2013', 'HighestBid': '3134', 'Quota': '19'}, {'LowestBid': '1', 'Round': '1A', 'LowestSuccessfulBid': '1', 'StudentAcctType': 'Returning Students [P]', 'Faculty': 'School Of Business', 'Semester': '1', 'Bidders': '20', 'Group': 'Sectional Teaching N1', 'AcadYear': '2013/2014', 'HighestBid': '1000', 'Quota': '40'}, {'LowestBid': '1', 'Round': '1B', 'LowestSuccessfulBid': '1', 'StudentAcctType': 'Returning Students [P]', 'Faculty': 'School Of Business', 'Semester': '1', 'Bidders': '1', 'Group': 'Sectional Teaching N1', 'AcadYear': '2013/2014', 'HighestBid': '1', 'Quota': '20'}, {'LowestBid': '1', 'Round': '1C', 'LowestSuccessfulBid': '1', 'StudentAcctType': 'Returning Students [P]', 'Faculty': 'School Of Business', 'Semester': '1', 'Bidders': '2', 'Group': 'Sectional Teaching N1', 'AcadYear': '2013/2014', 'HighestBid': '1', 'Quota': '19'}, {'LowestBid': '0', 'Round': '1C', 'LowestSuccessfulBid': '0', 'StudentAcctType': 'Reserved for [G] in later round', 'Faculty': 'School Of Business', 'Semester': '1', 'Bidders': '0', 'Group': 'Sectional Teaching N1', 'AcadYear': '2013/2014', 'HighestBid': '0', 'Quota': '4'}, {'LowestBid': '1', 'Round': '2A', 'LowestSuccessfulBid': '1', 'StudentAcctType': 'Returning Students [P] and NUS Students [G]', 'Faculty': 'School Of Business', 'Semester': '1', 'Bidders': '1', 'Group': 'Sectional Teaching N1', 'AcadYear': '2013/2014', 'HighestBid': '1', 'Quota': '21'}, {'LowestBid': '0', 'Round': '2B', 'LowestSuccessfulBid': '0', 'StudentAcctType': 'Returning Students [P] and NUS Students [G]', 'Faculty': 'School Of Business', 'Semester': '1', 'Bidders': '0', 'Group': 'Sectional Teaching N1', 'AcadYear': '2013/2014', 'HighestBid': '0', 'Quota': '20'}, {'LowestBid': '1', 'Round': '3A', 'LowestSuccessfulBid': '1', 'StudentAcctType': 'NUS Students [P, G]', 'Faculty': 'School Of Business', 'Semester': '1', 'Bidders': '1', 'Group': 'Sectional Teaching N1', 'AcadYear': '2013/2014', 'HighestBid': '1', 'Quota': '20'}, {'LowestBid': '1', 'Round': '3B', 'LowestSuccessfulBid': '1', 'StudentAcctType': 'NUS Students [P, G]', 'Faculty': 'School Of Business', 'Semester': '1', 'Bidders': '1', 'Group': 'Sectional Teaching N1', 'AcadYear': '2013/2014', 'HighestBid': '1', 'Quota': '19'}, {'LowestBid': '1', 'Round': '1A', 'LowestSuccessfulBid': '1', 'StudentAcctType': 'Returning Students [P]', 'Faculty': 'School Of Business', 'Semester': '1', 'Bidders': '18', 'Group': 'Sectional Teaching N1', 'AcadYear': '2014/2015', 'HighestBid': '2014', 'Quota': '30'}, {'LowestBid': '100', 'Round': '1B', 'LowestSuccessfulBid': '1', 'StudentAcctType': 'Returning Students [P]', 'Faculty': 'School Of Business', 'Semester': '1', 'Bidders': '6', 'Group': 'Sectional Teaching N1', 'AcadYear': '2014/2015', 'HighestBid': '1500', 'Quota': '12'}, {'LowestBid': '291', 'Round': '1C', 'LowestSuccessfulBid': '1', 'StudentAcctType': 'Returning Students [P]', 'Faculty': 'School Of Business', 'Semester': '1', 'Bidders': '1', 'Group': 'Sectional Teaching N1', 'AcadYear': '2014/2015', 'HighestBid': '291', 'Quota': '6'}, {'LowestBid': '0', 'Round': '1C', 'LowestSuccessfulBid': '0', 'StudentAcctType': 'Reserved for [G] in later round', 'Faculty': 'School Of Business', 'Semester': '1', 'Bidders': '0', 'Group': 'Sectional Teaching N1', 'AcadYear': '2014/2015', 'HighestBid': '0', 'Quota': '5'}, {'LowestBid': '0', 'Round': '2A', 'LowestSuccessfulBid': '0', 'StudentAcctType': 'Returning Students [P] and NUS Students [G]', 'Faculty': 'School Of Business', 'Semester': '1', 'Bidders': '0', 'Group': 'Sectional Teaching N1', 'AcadYear': '2014/2015', 'HighestBid': '0', 'Quota': '10'}, {'LowestBid': '0', 'Round': '2B', 'LowestSuccessfulBid': '0', 'StudentAcctType': 'Returning Students [P] and NUS Students [G]', 'Faculty': 'School Of Business', 'Semester': '1', 'Bidders': '0', 'Group': 'Sectional Teaching N1', 'AcadYear': '2014/2015', 'HighestBid': '0', 'Quota': '12'}, {'LowestBid': '1', 'Round': '3A', 'LowestSuccessfulBid': '1', 'StudentAcctType': 'NUS Students [P, G]', 'Faculty': 'School Of Business', 'Semester': '1', 'Bidders': '2', 'Group': 'Sectional Teaching N1', 'AcadYear': '2014/2015', 'HighestBid': '1', 'Quota': '12'}, {'LowestBid': '0', 'Round': '3B', 'LowestSuccessfulBid': '0', 'StudentAcctType': 'NUS Students [P, G]', 'Faculty': 'School Of Business', 'Semester': '1', 'Bidders': '0', 'Group': 'Sectional Teaching N1', 'AcadYear': '2014/2015', 'HighestBid': '0', 'Quota': '10'}, {'LowestBid': '100', 'Round': '1A', 'LowestSuccessfulBid': '101', 'StudentAcctType': 'Returning Students [P]', 'Faculty': 'School Of Computing', 'Semester': '1', 'Bidders': '16', 'Group': 'Sectional Teaching N1', 'AcadYear': '2015/2016', 'HighestBid': '2001', 'Quota': '13'}, {'LowestBid': '1', 'Round': '1A', 'LowestSuccessfulBid': '1', 'StudentAcctType': 'Returning Students [P]', 'Faculty': 'School Of Business', 'Semester': '1', 'Bidders': '26', 'Group': 'Sectional Teaching N1', 'AcadYear': '2015/2016', 'HighestBid': '1441', 'Quota': '27'}, {'LowestBid': '525', 'Round': '1B', 'LowestSuccessfulBid': '1001', 'StudentAcctType': 'Returning Students [P]', 'Faculty': 'School Of Business', 'Semester': '1', 'Bidders': '6', 'Group': 'Sectional Teaching N1', 'AcadYear': '2015/2016', 'HighestBid': '1001', 'Quota': '1'}, {'LowestBid': '0', 'Round': '1C', 'LowestSuccessfulBid': '0', 'StudentAcctType': 'New Students [P]', 'Faculty': 'School Of Computing', 'Semester': '1', 'Bidders': '0', 'Group': 'Sectional Teaching N1', 'AcadYear': '2015/2016', 'HighestBid': '0', 'Quota': '2'}, {'LowestBid': '0', 'Round': '1C', 'LowestSuccessfulBid': '0', 'StudentAcctType': 'Reserved for [G] in later round', 'Faculty': 'School Of Business', 'Semester': '1', 'Bidders': '0', 'Group': 'Sectional Teaching N1', 'AcadYear': '2015/2016', 'HighestBid': '0', 'Quota': '5'}, {'LowestBid': '150', 'Round': '2A', 'LowestSuccessfulBid': '714', 'StudentAcctType': 'Returning Students [P] and NUS Students [G]', 'Faculty': 'School Of Business', 'Semester': '1', 'Bidders': '7', 'Group': 'Sectional Teaching N1', 'AcadYear': '2015/2016', 'HighestBid': '1500', 'Quota': '5'}, {'LowestBid': '0', 'Round': '2A', 'LowestSuccessfulBid': '0', 'StudentAcctType': 'New Students [P]', 'Faculty': 'School Of Computing', 'Semester': '1', 'Bidders': '0', 'Group': 'Sectional Teaching N1', 'AcadYear': '2015/2016', 'HighestBid': '0', 'Quota': '2'}, {'LowestBid': '0', 'Round': '2B', 'LowestSuccessfulBid': '0', 'StudentAcctType': 'New Students [P]', 'Faculty': 'School Of Computing', 'Semester': '1', 'Bidders': '0', 'Group': 'Sectional Teaching N1', 'AcadYear': '2015/2016', 'HighestBid': '0', 'Quota': '2'}, {'LowestBid': '605', 'Round': '3A', 'LowestSuccessfulBid': '1401', 'StudentAcctType': 'NUS Students [P, G]', 'Faculty': 'School Of Business', 'Semester': '1', 'Bidders': '4', 'Group': 'Sectional Teaching N1', 'AcadYear': '2015/2016', 'HighestBid': '3333', 'Quota': '2'}, {'LowestBid': '300', 'Round': '3B', 'LowestSuccessfulBid': '850', 'StudentAcctType': 'NUS Students [P, G]', 'Faculty': 'School Of Business', 'Semester': '1', 'Bidders': '5', 'Group': 'Sectional Teaching N1', 'AcadYear': '2015/2016', 'HighestBid': '1000', 'Quota': '2'}, {'LowestBid': '1', 'Round': '1A', 'LowestSuccessfulBid': '1683', 'AcadYear': '2016/2017', 'Faculty': 'School Of Computing', 'Semester': '1', 'Bidders': '24', 'Group': 'Sectional Teaching N1', 'StudentAcctType': 'Returning Students [P]', 'HighestBid': '4363', 'Quota': '13'}, {'LowestBid': '250', 'Round': '1A', 'LowestSuccessfulBid': '531', 'AcadYear': '2016/2017', 'Faculty': 'School Of Business', 'Semester': '1', 'Bidders': '39', 'Group': 'Sectional Teaching N1', 'StudentAcctType': 'Returning Students [P]', 'HighestBid': '2000', 'Quota': '29'}, {'LowestBid': '0', 'Round': '1C', 'LowestSuccessfulBid': '0', 'AcadYear': '2016/2017', 'Faculty': 'School Of Computing', 'Semester': '1', 'Bidders': '0', 'Group': 'Sectional Teaching N1', 'StudentAcctType': 'New Students [P]', 'HighestBid': '0', 'Quota': '2'}, {'LowestBid': '0', 'Round': '1C', 'LowestSuccessfulBid': '0', 'AcadYear': '2016/2017', 'Faculty': 'School Of Business', 'Semester': '1', 'Bidders': '0', 'Group': 'Sectional Teaching N1', 'StudentAcctType': 'Reserved for [G] in later round', 'HighestBid': '0', 'Quota': '2'}, {'LowestBid': '1000', 'Round': '2A', 'LowestSuccessfulBid': '2677', 'AcadYear': '2016/2017', 'Faculty': 'School Of Business', 'Semester': '1', 'Bidders': '8', 'Group': 'Sectional Teaching N1', 'StudentAcctType': 'Returning Students [P] and NUS Students [G]', 'HighestBid': '2701', 'Quota': '2'}, {'LowestBid': '1', 'Round': '2A', 'LowestSuccessfulBid': '1', 'AcadYear': '2016/2017', 'Faculty': 'School Of Computing', 'Semester': '1', 'Bidders': '1', 'Group': 'Sectional Teaching N1', 'StudentAcctType': 'New Students [P]', 'HighestBid': '1', 'Quota': '2'}, {'LowestBid': '0', 'Round': '2B', 'LowestSuccessfulBid': '0', 'AcadYear': '2016/2017', 'Faculty': 'School Of Computing', 'Semester': '1', 'Bidders': '0', 'Group': 'Sectional Teaching N1', 'StudentAcctType': 'New Students [P]', 'HighestBid': '0', 'Quota': '1'}, {'LowestBid': '1077', 'Round': '3A', 'LowestSuccessfulBid': '2902', 'AcadYear': '2016/2017', 'Faculty': 'School Of Business', 'Semester': '1', 'Bidders': '8', 'Group': 'Sectional Teaching N1', 'StudentAcctType': 'NUS Students [P, G]', 'HighestBid': '2902', 'Quota': '1'}], 'ModuleCredit': '4', 'ExamDate': '2017-12-08T14:30+0800', 'Types': ['UEM'], 'Prerequisite': 'DSC1007 or [(MA1101R or MA1311) and (MA1521 or MA1102R)]', 'ModuleTitle': 'Introduction To Optimisation', 'LecturePeriods': ['Friday Afternoon'], 'Preclusion': 'IE2110', 'ModuleDescription': 'This module introduces students to the theory, algorithms, and applications of optimisation. Optimisation methodologies include linear programming, integer programming, network optimisation, dynamic programming, and nonlinear programming. Problem formulation and interpretation of solutions will be emphasized. Throughout the course, references will be made wherever appropriate, to business applications, such as portfolio selection, options pricing, and vehicle routing. Students who are interested in computer and quantitative approaches in business will learn many useful techniques in large business system management from this course.', 'ModuleCode': 'DSC3214', 'Department': 'Analytics & Operations', 'Workload': '3-0-0-3-4', 'Timetable': [{'StartTime': '1400', 'EndTime': '1700', 'ClassNo': 'N1', 'Venue': 'BIZ2-0509', 'DayText': 'Friday', 'LessonType': 'Sectional Teaching', 'WeekText': 'Every Week'}]}\n"
     ]
    }
   ],
   "source": [
    "with urllib.request.urlopen(\"http://api.nusmods.com/2017-2018/1/modules/DSC3214.json\") as url:\n",
    "    data = json.loads(url.read().decode())\n",
    "    print(data)"
   ]
  },
  {
   "cell_type": "code",
   "execution_count": 15,
   "metadata": {
    "collapsed": true
   },
   "outputs": [],
   "source": [
    "??filter"
   ]
  },
  {
   "cell_type": "code",
   "execution_count": null,
   "metadata": {
    "collapsed": true
   },
   "outputs": [],
   "source": []
  }
 ],
 "metadata": {
  "anaconda-cloud": {},
  "kernelspec": {
   "display_name": "Python [conda root]",
   "language": "python",
   "name": "conda-root-py"
  },
  "language_info": {
   "codemirror_mode": {
    "name": "ipython",
    "version": 3
   },
   "file_extension": ".py",
   "mimetype": "text/x-python",
   "name": "python",
   "nbconvert_exporter": "python",
   "pygments_lexer": "ipython3",
   "version": "3.5.2"
  }
 },
 "nbformat": 4,
 "nbformat_minor": 1
}
